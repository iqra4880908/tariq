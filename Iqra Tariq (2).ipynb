{
 "cells": [
  {
   "cell_type": "markdown",
   "id": "1fd70bd9-a357-4649-9035-456e7e5f171d",
   "metadata": {},
   "source": [
    "                                                                      Lab ASSignment 1\n",
    "                                                                        SP25-BBD-091\n",
    "List Iteration:"
   ]
  },
  {
   "cell_type": "code",
   "execution_count": 2,
   "id": "26b33948-e789-4ef1-bc01-87d4b97f9875",
   "metadata": {},
   "outputs": [
    {
     "name": "stdout",
     "output_type": "stream",
     "text": [
      "['Harry potter', 'The Lord of rings', 'Three idiots', 'The dark knight']\n"
     ]
    }
   ],
   "source": [
    "#Question no 1\n",
    "Favorite_Movies=[\"Harry potter\",\"The Lord of rings\",\"Three idiots\",\"The dark knight\"]\n",
    "print(Favorite_Movies)"
   ]
  },
  {
   "cell_type": "code",
   "execution_count": 3,
   "id": "12f7fdf8-f15a-4c36-b0bf-ebc88214e623",
   "metadata": {},
   "outputs": [
    {
     "name": "stdout",
     "output_type": "stream",
     "text": [
      "Harry potter\n",
      "The Lord of rings\n",
      "Three Idiots\n",
      "The dark knight\n"
     ]
    }
   ],
   "source": [
    "#Question no 2\n",
    "Favorite_movies=[\"Harry potter\",\"The Lord of rings\",\"Three Idiots\",\"The dark knight\"]\n",
    "for movie in Favorite_movies:\n",
    "    print(movie)"
   ]
  },
  {
   "cell_type": "code",
   "execution_count": 5,
   "id": "7aa98809-fd36-4006-8a58-611414e39ab0",
   "metadata": {},
   "outputs": [
    {
     "name": "stdout",
     "output_type": "stream",
     "text": [
      "0 Harry potter\n",
      "1 The Lord of rings\n",
      "2 Three idiots\n",
      "3 The dark knight\n"
     ]
    }
   ],
   "source": [
    "#Question no 3 \n",
    "Favorite_movies=[\"Harry potter\",\"The Lord of rings\",\"Three idiots\",\"The dark knight\"]\n",
    "for i in range(len(Favorite_movies)):\n",
    "    print(f\"{i+0} {Favorite_movies[i]}\")"
   ]
  },
  {
   "cell_type": "markdown",
   "id": "d06a7f77-f1fe-4c99-a283-96d0619db108",
   "metadata": {},
   "source": [
    "String Iteration:"
   ]
  },
  {
   "cell_type": "code",
   "execution_count": null,
   "id": "57d813b7-af2d-4761-9cc8-92f4b5dba3b6",
   "metadata": {},
   "outputs": [],
   "source": [
    "#Question no 1:\n",
    "#String-variable\n",
    "Name=\"IQRA TARIQ\""
   ]
  },
  {
   "cell_type": "code",
   "execution_count": 10,
   "id": "056b27ca-c8ff-46a1-8e75-6d744e3d745b",
   "metadata": {},
   "outputs": [
    {
     "name": "stdout",
     "output_type": "stream",
     "text": [
      "I\n",
      "Q\n",
      "R\n",
      "A\n",
      " \n",
      "T\n",
      "A\n",
      "R\n",
      "I\n",
      "Q\n"
     ]
    }
   ],
   "source": [
    "#Question no 2:\n",
    "Name=\"IQRA TARIQ\"\n",
    "for char in Name:\n",
    "    print(char)"
   ]
  },
  {
   "cell_type": "code",
   "execution_count": 17,
   "id": "bc098a2e-d82c-4dc0-b7a7-bc94f317f729",
   "metadata": {},
   "outputs": [
    {
     "name": "stdout",
     "output_type": "stream",
     "text": [
      "Number of vowels: 4\n"
     ]
    }
   ],
   "source": [
    "#Question no 3:\n",
    "Name=\"IQRA TARIQ\"\n",
    "vowels=\"AEIOUaeiou\"\n",
    "count=sum(1 for char in Name if char in vowels)\n",
    "print(\"Number of vowels:\", count)"
   ]
  },
  {
   "cell_type": "code",
   "execution_count": null,
   "id": "e7d7ff2f-b6c5-43ff-bc4c-1a1c471b8178",
   "metadata": {},
   "outputs": [],
   "source": []
  },
  {
   "cell_type": "code",
   "execution_count": null,
   "id": "3ae5999a-bf38-4acb-8a73-9a4376d54f94",
   "metadata": {},
   "outputs": [],
   "source": []
  }
 ],
 "metadata": {
  "kernelspec": {
   "display_name": "Python 3 (ipykernel)",
   "language": "python",
   "name": "python3"
  },
  "language_info": {
   "codemirror_mode": {
    "name": "ipython",
    "version": 3
   },
   "file_extension": ".py",
   "mimetype": "text/x-python",
   "name": "python",
   "nbconvert_exporter": "python",
   "pygments_lexer": "ipython3",
   "version": "3.12.7"
  }
 },
 "nbformat": 4,
 "nbformat_minor": 5
}
