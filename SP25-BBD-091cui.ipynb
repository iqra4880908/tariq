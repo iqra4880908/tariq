{
 "cells": [
  {
   "cell_type": "code",
   "execution_count": null,
   "id": "60a4bb76-9d80-41c8-a8d9-9a0be41173cd",
   "metadata": {},
   "outputs": [],
   "source": [
    "                                                      #Lab Assignment 2:\n",
    "                                                      #SP25-BBD-091:"
   ]
  },
  {
   "cell_type": "code",
   "execution_count": 2,
   "id": "4e8a58d4-6690-446e-9556-bb9bcf27a7a5",
   "metadata": {},
   "outputs": [
    {
     "name": "stdout",
     "output_type": "stream",
     "text": [
      "Number is Negative\n"
     ]
    }
   ],
   "source": [
    "#Question no 1:\n",
    "Number=-34\n",
    "if Number<0:\n",
    "    print (\"Number is Negative\")\n",
    "elif Number>0:\n",
    "    print(\"NUmber is positive\")\n",
    "else:\n",
    "    print (\"Number is zero\")"
   ]
  },
  {
   "cell_type": "code",
   "execution_count": 3,
   "id": "d54dc1ee-f855-4da5-826b-b26b7e259c8c",
   "metadata": {},
   "outputs": [
    {
     "name": "stdout",
     "output_type": "stream",
     "text": [
      "Year is not leap\n"
     ]
    }
   ],
   "source": [
    "#Question no 2:\n",
    "Year=2025\n",
    "if Year % 4==0:\n",
    "    print(\"Year is leap\")\n",
    "else:\n",
    "    print(\"Year is not leap\")"
   ]
  },
  {
   "cell_type": "code",
   "execution_count": 7,
   "id": "32e5cb48-9da0-4bbc-a9f1-41b874bd57b7",
   "metadata": {},
   "outputs": [
    {
     "name": "stdout",
     "output_type": "stream",
     "text": [
      "Grade:A\n"
     ]
    }
   ],
   "source": [
    "#Question no 3:\n",
    "Stu_marks=85\n",
    "if Stu_marks>=84:\n",
    "    print(\"Grade:A\")\n",
    "elif Stu_marks>=70:\n",
    "    print(\"Grade:B\")\n",
    "elif Stu_marks>=50:\n",
    "    print(\"Grade:C\")\n",
    "elif Stu_marks<50:\n",
    "    print(\"Grade:F\")\n",
    "else:\n",
    "    print(\"Summary\")"
   ]
  },
  {
   "cell_type": "code",
   "execution_count": null,
   "id": "c8e00bae-9f65-4c41-a6f1-4242d405e785",
   "metadata": {},
   "outputs": [],
   "source": []
  }
 ],
 "metadata": {
  "kernelspec": {
   "display_name": "Python 3 (ipykernel)",
   "language": "python",
   "name": "python3"
  },
  "language_info": {
   "codemirror_mode": {
    "name": "ipython",
    "version": 3
   },
   "file_extension": ".py",
   "mimetype": "text/x-python",
   "name": "python",
   "nbconvert_exporter": "python",
   "pygments_lexer": "ipython3",
   "version": "3.12.7"
  }
 },
 "nbformat": 4,
 "nbformat_minor": 5
}
