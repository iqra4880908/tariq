{
 "cells": [
  {
   "cell_type": "markdown",
   "id": "56484347-7a83-49cc-bda1-77435497e1f5",
   "metadata": {},
   "source": [
    "                                             #SP25-BBD-091\n",
    "                                              #Iqra Tariq"
   ]
  },
  {
   "cell_type": "code",
   "execution_count": null,
   "id": "9c9c00f0",
   "metadata": {},
   "outputs": [],
   "source": []
  },
  {
   "cell_type": "code",
   "execution_count": 1,
   "id": "a45ce1a9-91e0-46d6-af96-f242a698fdd5",
   "metadata": {},
   "outputs": [
    {
     "name": "stdout",
     "output_type": "stream",
     "text": [
      "10\n",
      "9\n",
      "8\n",
      "7\n",
      "6\n",
      "5\n",
      "4\n",
      "3\n",
      "2\n",
      "1\n"
     ]
    }
   ],
   "source": [
    "#Question 1:\n",
    "num=10\n",
    "while num>=1:\n",
    "    print(num)\n",
    "    num-=1"
   ]
  },
  {
   "cell_type": "code",
   "execution_count": 4,
   "id": "0d2e55ea-7a40-4414-a856-3322cd4637f6",
   "metadata": {},
   "outputs": [
    {
     "name": "stdout",
     "output_type": "stream",
     "text": [
      "2\n",
      "4\n",
      "6\n",
      "8\n",
      "10\n",
      "12\n",
      "14\n",
      "16\n",
      "18\n",
      "20\n"
     ]
    }
   ],
   "source": [
    "#Question 2:\n",
    "num=2\n",
    "while num<=20:\n",
    "    print(num)\n",
    "    num+=2"
   ]
  },
  {
   "cell_type": "code",
   "execution_count": 13,
   "id": "0351b7a7-1ff6-438a-a775-271014f9b7a0",
   "metadata": {},
   "outputs": [
    {
     "name": "stdout",
     "output_type": "stream",
     "text": [
      "Enter a number: 4\n"
     ]
    },
    {
     "name": "stdout",
     "output_type": "stream",
     "text": [
      "Sum of first 4 natural num is: 10\n"
     ]
    }
   ],
   "source": [
    "# Question 3:\n",
    "n=int(input(\"Enter a number:\"))\n",
    "i=1\n",
    "total=0\n",
    "while i<=n:\n",
    "    total+=i\n",
    "    i+=1\n",
    "print(\"Sum of first\",n,\"natural num is:\",total)"
   ]
  },
  {
   "cell_type": "code",
   "execution_count": 6,
   "id": "12d5507b-305b-4975-985a-08c43e3b54ed",
   "metadata": {},
   "outputs": [
    {
     "name": "stdout",
     "output_type": "stream",
     "text": [
      "Enter a positive  num: -1\n",
      "Enter a positive  num: -9\n",
      "Enter a positive  num: 7\n"
     ]
    },
    {
     "name": "stdout",
     "output_type": "stream",
     "text": [
      "thank you!\n"
     ]
    }
   ],
   "source": [
    "#Question 4\n",
    "while True:\n",
    "     num=int(input(\"Enter a positive  num:\"))\n",
    "     if num>=0:\n",
    "          print(\"thank you!\")\n",
    "          break"
   ]
  },
  {
   "cell_type": "code",
   "execution_count": 9,
   "id": "a1bbc501-54bd-488a-a930-31c36b8c4b5c",
   "metadata": {},
   "outputs": [
    {
     "name": "stdout",
     "output_type": "stream",
     "text": [
      "D\n",
      "a\n",
      "t\n",
      "a\n"
     ]
    }
   ],
   "source": [
    "#Question 5:\n",
    "S=\"Data\"\n",
    "i=0\n",
    "while i<len(S):\n",
    "    print(S[i])\n",
    "    i+=1"
   ]
  },
  {
   "cell_type": "code",
   "execution_count": 1,
   "id": "65e79a8d-f384-473f-9506-b7afcd275f02",
   "metadata": {},
   "outputs": [
    {
     "name": "stdout",
     "output_type": "stream",
     "text": [
      "Enter a password: rt\n"
     ]
    },
    {
     "name": "stdout",
     "output_type": "stream",
     "text": [
      "Access granted\n"
     ]
    },
    {
     "name": "stdout",
     "output_type": "stream",
     "text": [
      "Enter a password: typo\n"
     ]
    },
    {
     "name": "stdout",
     "output_type": "stream",
     "text": [
      "Access granted\n"
     ]
    },
    {
     "name": "stdout",
     "output_type": "stream",
     "text": [
      "Enter a password: analytics 123\n"
     ]
    },
    {
     "name": "stdout",
     "output_type": "stream",
     "text": [
      "Access granted\n"
     ]
    }
   ],
   "source": [
    "#Question 6:\n",
    "correct_password='analytics 123'\n",
    "password=''\n",
    "while password!=correct_password:\n",
    "    password=input(\"Enter a password:\")\n",
    "    print('Access granted')\n",
    "    "
   ]
  },
  {
   "cell_type": "code",
   "execution_count": 5,
   "id": "7afa738e-3c46-4302-830f-de9ac92837b5",
   "metadata": {},
   "outputs": [
    {
     "name": "stdout",
     "output_type": "stream",
     "text": [
      "Enter a num: 8\n"
     ]
    },
    {
     "name": "stdout",
     "output_type": "stream",
     "text": [
      "too high\n"
     ]
    },
    {
     "name": "stdout",
     "output_type": "stream",
     "text": [
      "Enter a num: 5\n"
     ]
    },
    {
     "name": "stdout",
     "output_type": "stream",
     "text": [
      "too low\n",
      "correct guess\n"
     ]
    },
    {
     "name": "stdout",
     "output_type": "stream",
     "text": [
      "Enter a num: 7\n"
     ]
    },
    {
     "name": "stdout",
     "output_type": "stream",
     "text": [
      "correct guess\n"
     ]
    }
   ],
   "source": [
    "#Question 7\n",
    "Sceret=7\n",
    "guess=None\n",
    "while guess!=Sceret:\n",
    "    guess=int(input(\"Enter a num:\"))\n",
    "    if guess<Sceret:\n",
    "        print(\"too low\")\n",
    "    if guess>Sceret:\n",
    "        print(\"too high\")\n",
    "    else:\n",
    "        print(\"correct guess\")\n",
    "    \n"
   ]
  },
  {
   "cell_type": "code",
   "execution_count": 12,
   "id": "22d0ea3b-6988-42db-9755-bb897d90531c",
   "metadata": {},
   "outputs": [
    {
     "name": "stdout",
     "output_type": "stream",
     "text": [
      "Enter a positive num: 67890\n"
     ]
    },
    {
     "name": "stdout",
     "output_type": "stream",
     "text": [
      "Number of digits: 5\n"
     ]
    }
   ],
   "source": [
    "#Question 8:\n",
    "num=int(input(\"Enter a positive num:\"))\n",
    "count=0\n",
    "while num>0:\n",
    "    num=num//10\n",
    "    count+=1\n",
    "print('Number of digits:',count)"
   ]
  },
  {
   "cell_type": "code",
   "execution_count": 16,
   "id": "57489b4c-c2a4-425e-b60b-f89a6b4e6bd9",
   "metadata": {},
   "outputs": [
    {
     "name": "stdout",
     "output_type": "stream",
     "text": [
      "Enter a number: 7\n"
     ]
    },
    {
     "name": "stdout",
     "output_type": "stream",
     "text": [
      "7 X 1 = 7\n",
      "7 X 2 = 14\n",
      "7 X 3 = 21\n",
      "7 X 4 = 28\n",
      "7 X 5 = 35\n",
      "7 X 6 = 42\n",
      "7 X 7 = 49\n",
      "7 X 8 = 56\n",
      "7 X 9 = 63\n",
      "7 X 10 = 70\n"
     ]
    }
   ],
   "source": [
    "#Question 9:\n",
    "number=int(input(\"Enter a number:\"))\n",
    "i=1\n",
    "while i<=10:\n",
    "    print(number,\"X\",i,\"=\",number*i)\n",
    "    i+=1"
   ]
  },
  {
   "cell_type": "code",
   "execution_count": 28,
   "id": "4b3d5849-48c0-4205-9ec2-30553344113d",
   "metadata": {},
   "outputs": [
    {
     "name": "stdout",
     "output_type": "stream",
     "text": [
      "Enter a num(-1 to stop): 6\n",
      "Enter a number(-1 to stop): 9\n",
      "Enter a number(-1 to stop): 43\n",
      "Enter a number(-1 to stop): -1\n"
     ]
    },
    {
     "name": "stdout",
     "output_type": "stream",
     "text": [
      "Average is:  19.333333333333332\n"
     ]
    }
   ],
   "source": [
    "#Question 10:\n",
    "total=0\n",
    "count=0\n",
    "num=int(input(\"Enter a num(-1 to stop):\"))\n",
    "while num!=-1:\n",
    "    total+=num\n",
    "    count+=1\n",
    "    num=int(input(\"Enter a number(-1 to stop):\"))\n",
    "if count>0:\n",
    "     print(\"Average is: \",total/count)\n",
    "else:\n",
    "     print(\"No vaild numbers were entered\")"
   ]
  }
 ],
 "metadata": {
  "kernelspec": {
   "display_name": "Python 3 (ipykernel)",
   "language": "python",
   "name": "python3"
  },
  "language_info": {
   "codemirror_mode": {
    "name": "ipython",
    "version": 3
   },
   "file_extension": ".py",
   "mimetype": "text/x-python",
   "name": "python",
   "nbconvert_exporter": "python",
   "pygments_lexer": "ipython3",
   "version": "3.12.7"
  }
 },
 "nbformat": 4,
 "nbformat_minor": 5
}
